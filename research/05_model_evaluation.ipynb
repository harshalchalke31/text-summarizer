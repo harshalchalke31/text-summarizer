{
 "cells": [
  {
   "cell_type": "markdown",
   "metadata": {},
   "source": [
    "## Dependencies"
   ]
  },
  {
   "cell_type": "code",
   "execution_count": 1,
   "metadata": {},
   "outputs": [
    {
     "name": "stdout",
     "output_type": "stream",
     "text": [
      "[2025-01-25 16:26:36,946: WARNING: module_wrapper: From c:\\Projects\\python\\mainenv\\Lib\\site-packages\\tf_keras\\src\\losses.py:2976: The name tf.losses.sparse_softmax_cross_entropy is deprecated. Please use tf.compat.v1.losses.sparse_softmax_cross_entropy instead.\n",
      "]\n",
      "[2025-01-25 16:26:37,424: INFO: config: PyTorch version 2.5.1+cu118 available.]\n",
      "[2025-01-25 16:26:37,427: INFO: config: TensorFlow version 2.18.0 available.]\n"
     ]
    }
   ],
   "source": [
    "import os\n",
    "from dataclasses import dataclass\n",
    "from pathlib import Path\n",
    "from textSummarizer.constants import *\n",
    "from textSummarizer.utils.common import read_yaml,create_directories\n",
    "\n",
    "from transformers import Trainer, TrainingArguments, DataCollatorForSeq2Seq, AutoModelForSeq2SeqLM, AutoTokenizer\n",
    "from datasets import load_dataset, load_from_disk\n",
    "from evaluate import load\n",
    "import torch\n",
    "import pandas as pd\n",
    "from tqdm import tqdm"
   ]
  },
  {
   "cell_type": "code",
   "execution_count": 2,
   "metadata": {},
   "outputs": [
    {
     "data": {
      "text/plain": [
       "'c:\\\\Projects\\\\python\\\\text-summarizer\\\\research'"
      ]
     },
     "execution_count": 2,
     "metadata": {},
     "output_type": "execute_result"
    }
   ],
   "source": [
    "%pwd"
   ]
  },
  {
   "cell_type": "code",
   "execution_count": 3,
   "metadata": {},
   "outputs": [],
   "source": [
    "os.chdir('../')"
   ]
  },
  {
   "cell_type": "code",
   "execution_count": 4,
   "metadata": {},
   "outputs": [
    {
     "data": {
      "text/plain": [
       "'c:\\\\Projects\\\\python\\\\text-summarizer'"
      ]
     },
     "execution_count": 4,
     "metadata": {},
     "output_type": "execute_result"
    }
   ],
   "source": [
    "%pwd"
   ]
  },
  {
   "cell_type": "markdown",
   "metadata": {},
   "source": [
    "## Entity"
   ]
  },
  {
   "cell_type": "code",
   "execution_count": 5,
   "metadata": {},
   "outputs": [],
   "source": [
    "@dataclass(frozen=True)\n",
    "class ModelEvaluationConfig:\n",
    "    root_dir: Path\n",
    "    data_path: Path\n",
    "    model_path: Path\n",
    "    tokenizer_path: Path\n",
    "    metric_file: Path"
   ]
  },
  {
   "cell_type": "markdown",
   "metadata": {},
   "source": [
    "## Configuration manager"
   ]
  },
  {
   "cell_type": "code",
   "execution_count": 6,
   "metadata": {},
   "outputs": [],
   "source": [
    "class ConfigurationManager:\n",
    "    def __init__(self,\n",
    "                 config_file_path=CONFIG_FILE_PATH,\n",
    "                 params_file_path=PARAMS_FILE_PATH):\n",
    "        # paths accessed via constant.py -> config.yaml,params.yaml\n",
    "        self.config=read_yaml(config_file_path)\n",
    "        self.params=read_yaml(params_file_path)\n",
    "\n",
    "        create_directories([self.config.artifacts_root]) # due to configbox setup\n",
    "\n",
    "    def get_model_evaluation_config(self) -> ModelEvaluationConfig:\n",
    "        config = self.config.model_evaluation\n",
    "\n",
    "        create_directories([config.root_dir])\n",
    "\n",
    "        model_evaluation_config = ModelEvaluationConfig(\n",
    "            root_dir=config.root_dir,\n",
    "            data_path=config.data_path,\n",
    "            model_path=config.model_path,\n",
    "            tokenizer_path=config.tokenizer_path,\n",
    "            metric_file=config.metric_file\n",
    "        )\n",
    "        return model_evaluation_config"
   ]
  },
  {
   "cell_type": "markdown",
   "metadata": {},
   "source": [
    "## Components"
   ]
  },
  {
   "cell_type": "code",
   "execution_count": 7,
   "metadata": {},
   "outputs": [],
   "source": [
    "class ModelEvaluation:\n",
    "    def __init__(self,config: ModelEvaluationConfig):\n",
    "        self.config = config\n",
    "    \n",
    "    def generate_batch_sized_chunks(self,list_of_elements,batch_size):\n",
    "        for i in range(0,len(list_of_elements),batch_size):\n",
    "            yield list_of_elements[i:i+batch_size]\n",
    "    \n",
    "    def calculate_metric_on_test_ds(\n",
    "            self,\n",
    "            dataset,\n",
    "            metric,\n",
    "            model,\n",
    "            tokenizer,\n",
    "            batch_size=16,\n",
    "            device = \"cuda\" if torch.cuda.is_available() else \"cpu\",\n",
    "            column_text=\"article\",\n",
    "            column_summary=\"highlights\"):\n",
    "        \n",
    "        article_batches = list(self.generate_batch_sized_chunks(dataset[column_text],batch_size=batch_size))\n",
    "        target_batches = list(self.generate_batch_sized_chunks(dataset[column_summary],batch_size=batch_size))\n",
    "\n",
    "        for article_batch, target_batch in tqdm(zip(article_batches,target_batches),total = len(article_batches)):\n",
    "\n",
    "            inputs = tokenizer(article_batch,\n",
    "                               max_length=1024,\n",
    "                               truncation=True,\n",
    "                               padding=\"max_length\",\n",
    "                               return_tensors=\"pt\")\n",
    "            summaries = model.generate(\n",
    "                input_ids = inputs['input_ids'].to(device),\n",
    "                attention_mask=inputs['attention_mask'].to(device),\n",
    "                length_penalty = 0.8,\n",
    "                num_beams=8,\n",
    "                max_length=128)\n",
    "            \n",
    "            # Decode the summaries\n",
    "            decoded_summaries = tokenizer.batch_decode(summaries, skip_special_tokens=True)\n",
    "\n",
    "            # Preprocess summaries and references\n",
    "            decoded_summaries = [d.replace(\"\",\" \") for d in decoded_summaries]\n",
    "            # target_batch = [target.strip() for target in target_batch]      \n",
    "            \n",
    "            \n",
    "            metric.add_batch(predictions=decoded_summaries, references=target_batch)\n",
    "            \n",
    "        #  Finally compute and return the ROUGE scores.\n",
    "        score = metric.compute()\n",
    "        return score\n",
    "\n",
    "\n",
    "    def evaluate(self):\n",
    "        device = \"cuda\" if torch.cuda.is_available() else \"cpu\"\n",
    "        tokenizer = AutoTokenizer.from_pretrained(self.config.tokenizer_path)\n",
    "        model = AutoModelForSeq2SeqLM.from_pretrained(self.config.model_path).to(device)\n",
    "       \n",
    "        #loading data \n",
    "        dataset_samsum_pt = load_from_disk(self.config.data_path)\n",
    "\n",
    "  \n",
    "        rouge_metric = load('rouge')\n",
    "\n",
    "        score = self.calculate_metric_on_test_ds(\n",
    "            dataset=dataset_samsum_pt['test'][0:10],\n",
    "            metric=rouge_metric,\n",
    "            model=model,\n",
    "            tokenizer=tokenizer,\n",
    "            batch_size= 2,\n",
    "            column_text = 'dialogue', \n",
    "            column_summary= 'summary'\n",
    "            )\n",
    "\n",
    "        df = pd.DataFrame(score, index = ['distalBART'])\n",
    "        df.to_csv(self.config.metric_file, index=False)"
   ]
  },
  {
   "cell_type": "code",
   "execution_count": 8,
   "metadata": {},
   "outputs": [
    {
     "name": "stdout",
     "output_type": "stream",
     "text": [
      "[2025-01-25 16:26:37,755: INFO: common: yaml file: config\\config.yaml loaded successfully]\n",
      "[2025-01-25 16:26:37,757: INFO: common: yaml file: params.yaml loaded successfully]\n",
      "[2025-01-25 16:26:37,757: INFO: common: created directory at: artifacts]\n",
      "[2025-01-25 16:26:37,758: INFO: common: created directory at: artifacts/model_evaluation]\n"
     ]
    },
    {
     "name": "stderr",
     "output_type": "stream",
     "text": [
      "c:\\Projects\\python\\mainenv\\Lib\\site-packages\\transformers\\models\\bart\\configuration_bart.py:176: UserWarning: Please make sure the config includes `forced_bos_token_id=0` in future versions. The config can simply be saved and uploaded again to be fixed.\n",
      "  warnings.warn(\n",
      "  0%|          | 0/5 [00:00<?, ?it/s]c:\\Projects\\python\\mainenv\\Lib\\site-packages\\transformers\\generation\\utils.py:1528: UserWarning: You have modified the pretrained model configuration to control generation. This is a deprecated strategy to control generation and will be removed in v5. Please use and modify the model generation configuration (see https://huggingface.co/docs/transformers/generation_strategies#default-text-generation-configuration )\n",
      "  warnings.warn(\n",
      "100%|██████████| 5/5 [00:12<00:00,  2.41s/it]"
     ]
    },
    {
     "name": "stdout",
     "output_type": "stream",
     "text": [
      "[2025-01-25 16:26:53,074: INFO: rouge_scorer: Using default tokenizer.]\n"
     ]
    },
    {
     "name": "stderr",
     "output_type": "stream",
     "text": [
      "\n"
     ]
    }
   ],
   "source": [
    "try:\n",
    "    config = ConfigurationManager()\n",
    "    model_evaluation_config = config.get_model_evaluation_config()\n",
    "    model_evaluation_config = ModelEvaluation(config=model_evaluation_config)\n",
    "    model_evaluation_config.evaluate()\n",
    "except Exception as e:\n",
    "    print(f\"Error occurred: {e}\")\n",
    "    raise e"
   ]
  }
 ],
 "metadata": {
  "kernelspec": {
   "display_name": "mainenv",
   "language": "python",
   "name": "python3"
  },
  "language_info": {
   "codemirror_mode": {
    "name": "ipython",
    "version": 3
   },
   "file_extension": ".py",
   "mimetype": "text/x-python",
   "name": "python",
   "nbconvert_exporter": "python",
   "pygments_lexer": "ipython3",
   "version": "3.11.0"
  }
 },
 "nbformat": 4,
 "nbformat_minor": 2
}
